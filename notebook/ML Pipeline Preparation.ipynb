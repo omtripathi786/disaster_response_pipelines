{
 "cells": [
  {
   "cell_type": "markdown",
   "metadata": {},
   "source": [
    "# ML Pipeline Preparation\n",
    "Follow the instructions below to help you create your ML pipeline.\n",
    "### 1. Import libraries and load data from database.\n",
    "- Import Python libraries\n",
    "- Load dataset from database with [`read_sql_table`](https://pandas.pydata.org/pandas-docs/stable/generated/pandas.read_sql_table.html)\n",
    "- Define feature and target variables X and Y"
   ]
  },
  {
   "cell_type": "code",
   "execution_count": 1,
   "metadata": {},
   "outputs": [
    {
     "name": "stdout",
     "output_type": "stream",
     "text": [
      "[nltk_data] Downloading package punkt to /root/nltk_data...\n",
      "[nltk_data]   Unzipping tokenizers/punkt.zip.\n",
      "[nltk_data] Downloading package wordnet to /root/nltk_data...\n",
      "[nltk_data]   Unzipping corpora/wordnet.zip.\n"
     ]
    },
    {
     "data": {
      "text/plain": [
       "True"
      ]
     },
     "execution_count": 1,
     "metadata": {},
     "output_type": "execute_result"
    }
   ],
   "source": [
    "# import libraries\n",
    "import numpy as np\n",
    "import pandas as pd\n",
    "from sqlalchemy import create_engine\n",
    "import nltk\n",
    "from sklearn.pipeline import Pipeline\n",
    "from sklearn.model_selection import train_test_split\n",
    "from sklearn.metrics import classification_report\n",
    "from sklearn.metrics import confusion_matrix\n",
    "from sklearn.metrics import fbeta_score, make_scorer\n",
    "from sklearn.ensemble import GradientBoostingClassifier, RandomForestClassifier\n",
    "from sklearn.model_selection import GridSearchCV\n",
    "from sklearn.feature_extraction.text import TfidfTransformer, CountVectorizer\n",
    "from sklearn.multioutput import MultiOutputClassifier\n",
    "import pickle\n",
    "nltk.download('punkt')\n",
    "nltk.download('wordnet')"
   ]
  },
  {
   "cell_type": "code",
   "execution_count": 2,
   "metadata": {},
   "outputs": [
    {
     "data": {
      "text/html": [
       "<div>\n",
       "<style>\n",
       "    .dataframe thead tr:only-child th {\n",
       "        text-align: right;\n",
       "    }\n",
       "\n",
       "    .dataframe thead th {\n",
       "        text-align: left;\n",
       "    }\n",
       "\n",
       "    .dataframe tbody tr th {\n",
       "        vertical-align: top;\n",
       "    }\n",
       "</style>\n",
       "<table border=\"1\" class=\"dataframe\">\n",
       "  <thead>\n",
       "    <tr style=\"text-align: right;\">\n",
       "      <th></th>\n",
       "      <th>id</th>\n",
       "      <th>message</th>\n",
       "      <th>original</th>\n",
       "      <th>genre</th>\n",
       "      <th>related</th>\n",
       "      <th>request</th>\n",
       "      <th>offer</th>\n",
       "      <th>aid_related</th>\n",
       "      <th>medical_help</th>\n",
       "      <th>medical_products</th>\n",
       "      <th>...</th>\n",
       "      <th>aid_centers</th>\n",
       "      <th>other_infrastructure</th>\n",
       "      <th>weather_related</th>\n",
       "      <th>floods</th>\n",
       "      <th>storm</th>\n",
       "      <th>fire</th>\n",
       "      <th>earthquake</th>\n",
       "      <th>cold</th>\n",
       "      <th>other_weather</th>\n",
       "      <th>direct_report</th>\n",
       "    </tr>\n",
       "  </thead>\n",
       "  <tbody>\n",
       "    <tr>\n",
       "      <th>0</th>\n",
       "      <td>2</td>\n",
       "      <td>Weather update - a cold front from Cuba that c...</td>\n",
       "      <td>Un front froid se retrouve sur Cuba ce matin. ...</td>\n",
       "      <td>direct</td>\n",
       "      <td>1</td>\n",
       "      <td>0</td>\n",
       "      <td>0</td>\n",
       "      <td>0</td>\n",
       "      <td>0</td>\n",
       "      <td>0</td>\n",
       "      <td>...</td>\n",
       "      <td>0</td>\n",
       "      <td>0</td>\n",
       "      <td>0</td>\n",
       "      <td>0</td>\n",
       "      <td>0</td>\n",
       "      <td>0</td>\n",
       "      <td>0</td>\n",
       "      <td>0</td>\n",
       "      <td>0</td>\n",
       "      <td>0</td>\n",
       "    </tr>\n",
       "    <tr>\n",
       "      <th>1</th>\n",
       "      <td>7</td>\n",
       "      <td>Is the Hurricane over or is it not over</td>\n",
       "      <td>Cyclone nan fini osinon li pa fini</td>\n",
       "      <td>direct</td>\n",
       "      <td>1</td>\n",
       "      <td>0</td>\n",
       "      <td>0</td>\n",
       "      <td>1</td>\n",
       "      <td>0</td>\n",
       "      <td>0</td>\n",
       "      <td>...</td>\n",
       "      <td>0</td>\n",
       "      <td>0</td>\n",
       "      <td>1</td>\n",
       "      <td>0</td>\n",
       "      <td>1</td>\n",
       "      <td>0</td>\n",
       "      <td>0</td>\n",
       "      <td>0</td>\n",
       "      <td>0</td>\n",
       "      <td>0</td>\n",
       "    </tr>\n",
       "    <tr>\n",
       "      <th>2</th>\n",
       "      <td>8</td>\n",
       "      <td>Looking for someone but no name</td>\n",
       "      <td>Patnm, di Maryani relem pou li banm nouvel li ...</td>\n",
       "      <td>direct</td>\n",
       "      <td>1</td>\n",
       "      <td>0</td>\n",
       "      <td>0</td>\n",
       "      <td>0</td>\n",
       "      <td>0</td>\n",
       "      <td>0</td>\n",
       "      <td>...</td>\n",
       "      <td>0</td>\n",
       "      <td>0</td>\n",
       "      <td>0</td>\n",
       "      <td>0</td>\n",
       "      <td>0</td>\n",
       "      <td>0</td>\n",
       "      <td>0</td>\n",
       "      <td>0</td>\n",
       "      <td>0</td>\n",
       "      <td>0</td>\n",
       "    </tr>\n",
       "    <tr>\n",
       "      <th>3</th>\n",
       "      <td>9</td>\n",
       "      <td>UN reports Leogane 80-90 destroyed. Only Hospi...</td>\n",
       "      <td>UN reports Leogane 80-90 destroyed. Only Hospi...</td>\n",
       "      <td>direct</td>\n",
       "      <td>1</td>\n",
       "      <td>1</td>\n",
       "      <td>0</td>\n",
       "      <td>1</td>\n",
       "      <td>0</td>\n",
       "      <td>1</td>\n",
       "      <td>...</td>\n",
       "      <td>0</td>\n",
       "      <td>0</td>\n",
       "      <td>0</td>\n",
       "      <td>0</td>\n",
       "      <td>0</td>\n",
       "      <td>0</td>\n",
       "      <td>0</td>\n",
       "      <td>0</td>\n",
       "      <td>0</td>\n",
       "      <td>0</td>\n",
       "    </tr>\n",
       "    <tr>\n",
       "      <th>4</th>\n",
       "      <td>12</td>\n",
       "      <td>says: west side of Haiti, rest of the country ...</td>\n",
       "      <td>facade ouest d Haiti et le reste du pays aujou...</td>\n",
       "      <td>direct</td>\n",
       "      <td>1</td>\n",
       "      <td>0</td>\n",
       "      <td>0</td>\n",
       "      <td>0</td>\n",
       "      <td>0</td>\n",
       "      <td>0</td>\n",
       "      <td>...</td>\n",
       "      <td>0</td>\n",
       "      <td>0</td>\n",
       "      <td>0</td>\n",
       "      <td>0</td>\n",
       "      <td>0</td>\n",
       "      <td>0</td>\n",
       "      <td>0</td>\n",
       "      <td>0</td>\n",
       "      <td>0</td>\n",
       "      <td>0</td>\n",
       "    </tr>\n",
       "  </tbody>\n",
       "</table>\n",
       "<p>5 rows × 40 columns</p>\n",
       "</div>"
      ],
      "text/plain": [
       "   id                                            message  \\\n",
       "0   2  Weather update - a cold front from Cuba that c...   \n",
       "1   7            Is the Hurricane over or is it not over   \n",
       "2   8                    Looking for someone but no name   \n",
       "3   9  UN reports Leogane 80-90 destroyed. Only Hospi...   \n",
       "4  12  says: west side of Haiti, rest of the country ...   \n",
       "\n",
       "                                            original   genre  related  \\\n",
       "0  Un front froid se retrouve sur Cuba ce matin. ...  direct        1   \n",
       "1                 Cyclone nan fini osinon li pa fini  direct        1   \n",
       "2  Patnm, di Maryani relem pou li banm nouvel li ...  direct        1   \n",
       "3  UN reports Leogane 80-90 destroyed. Only Hospi...  direct        1   \n",
       "4  facade ouest d Haiti et le reste du pays aujou...  direct        1   \n",
       "\n",
       "   request  offer  aid_related  medical_help  medical_products      ...        \\\n",
       "0        0      0            0             0                 0      ...         \n",
       "1        0      0            1             0                 0      ...         \n",
       "2        0      0            0             0                 0      ...         \n",
       "3        1      0            1             0                 1      ...         \n",
       "4        0      0            0             0                 0      ...         \n",
       "\n",
       "   aid_centers  other_infrastructure  weather_related  floods  storm  fire  \\\n",
       "0            0                     0                0       0      0     0   \n",
       "1            0                     0                1       0      1     0   \n",
       "2            0                     0                0       0      0     0   \n",
       "3            0                     0                0       0      0     0   \n",
       "4            0                     0                0       0      0     0   \n",
       "\n",
       "   earthquake  cold  other_weather  direct_report  \n",
       "0           0     0              0              0  \n",
       "1           0     0              0              0  \n",
       "2           0     0              0              0  \n",
       "3           0     0              0              0  \n",
       "4           0     0              0              0  \n",
       "\n",
       "[5 rows x 40 columns]"
      ]
     },
     "execution_count": 2,
     "metadata": {},
     "output_type": "execute_result"
    }
   ],
   "source": [
    "# load data from database\n",
    "engine = create_engine('sqlite:///disaster_response.db')\n",
    "df = pd.read_sql('SELECT * FROM messages_df', engine)\n",
    "X = df.filter(items=['id', 'message', 'original', 'genre'])\n",
    "y = df.drop(['id', 'message', 'original', 'genre', 'child_alone'], axis=1)#'child_alone' has no responses\n",
    "#Mapping the '2' values in 'related' to '1' - because I consider them as a response (that is, '1')\n",
    "y['related']=y['related'].map(lambda x: 1 if x == 2 else x)\n",
    "df.head()"
   ]
  },
  {
   "cell_type": "markdown",
   "metadata": {},
   "source": [
    "### 2. Write a tokenization function to process your text data"
   ]
  },
  {
   "cell_type": "code",
   "execution_count": 3,
   "metadata": {},
   "outputs": [],
   "source": [
    "def tokenize(text):\n",
    "    tokens = nltk.word_tokenize(text)\n",
    "    lemmatizer = nltk.WordNetLemmatizer()\n",
    "    return [lemmatizer.lemmatize(w).lower().strip() for w in tokens]"
   ]
  },
  {
   "cell_type": "markdown",
   "metadata": {},
   "source": [
    "### 3. Build a machine learning pipeline\n",
    "This machine pipeline should take in the `message` column as input and output classification results on the other 36 categories in the dataset. You may find the [MultiOutputClassifier](http://scikit-learn.org/stable/modules/generated/sklearn.multioutput.MultiOutputClassifier.html) helpful for predicting multiple target variables."
   ]
  },
  {
   "cell_type": "code",
   "execution_count": 4,
   "metadata": {},
   "outputs": [],
   "source": [
    "pipeline = Pipeline([('cvect', CountVectorizer(tokenizer = tokenize)),\n",
    "                     ('tfidf', TfidfTransformer()),\n",
    "                     ('clf', RandomForestClassifier())\n",
    "                     ])"
   ]
  },
  {
   "cell_type": "markdown",
   "metadata": {},
   "source": [
    "### 4. Train pipeline\n",
    "- Split data into train and test sets\n",
    "- Train pipeline"
   ]
  },
  {
   "cell_type": "code",
   "execution_count": 5,
   "metadata": {},
   "outputs": [
    {
     "data": {
      "text/plain": [
       "Pipeline(memory=None,\n",
       "     steps=[('cvect', CountVectorizer(analyzer='word', binary=False, decode_error='strict',\n",
       "        dtype=<class 'numpy.int64'>, encoding='utf-8', input='content',\n",
       "        lowercase=True, max_df=1.0, max_features=None, min_df=1,\n",
       "        ngram_range=(1, 1), preprocessor=None, stop_words=None,\n",
       "        stri...n_jobs=1,\n",
       "            oob_score=False, random_state=None, verbose=0,\n",
       "            warm_start=False))])"
      ]
     },
     "execution_count": 5,
     "metadata": {},
     "output_type": "execute_result"
    }
   ],
   "source": [
    "X_train, X_test, y_train, y_test = train_test_split(X, y)\n",
    "pipeline.fit(X_train['message'], y_train)"
   ]
  },
  {
   "cell_type": "markdown",
   "metadata": {},
   "source": [
    "### 5. Test your model\n",
    "Report the f1 score, precision and recall for each output category of the dataset. You can do this by iterating through the columns and calling sklearn's `classification_report` on each."
   ]
  },
  {
   "cell_type": "code",
   "execution_count": 6,
   "metadata": {},
   "outputs": [
    {
     "name": "stdout",
     "output_type": "stream",
     "text": [
      "-----------------------------On testing data set----------------------------------------\n",
      "                        precision    recall  f1-score   support\n",
      "\n",
      "               related       0.85      0.90      0.87      5073\n",
      "               request       0.85      0.40      0.54      1135\n",
      "                 offer       0.00      0.00      0.00        34\n",
      "           aid_related       0.78      0.43      0.55      2778\n",
      "          medical_help       0.62      0.02      0.03       530\n",
      "      medical_products       0.74      0.05      0.09       340\n",
      "     search_and_rescue       0.67      0.01      0.02       161\n",
      "              security       0.00      0.00      0.00       109\n",
      "              military       0.00      0.00      0.00       243\n",
      "                 water       0.87      0.22      0.36       403\n",
      "                  food       0.85      0.24      0.38       750\n",
      "               shelter       0.83      0.09      0.16       591\n",
      "              clothing       0.75      0.08      0.15       106\n",
      "                 money       0.75      0.02      0.04       167\n",
      "        missing_people       0.00      0.00      0.00        70\n",
      "              refugees       0.50      0.02      0.04       220\n",
      "                 death       0.77      0.06      0.12       317\n",
      "             other_aid       0.60      0.03      0.05       928\n",
      "infrastructure_related       0.00      0.00      0.00       454\n",
      "             transport       0.88      0.02      0.04       307\n",
      "             buildings       0.88      0.02      0.04       340\n",
      "           electricity       1.00      0.01      0.01       146\n",
      "                 tools       0.00      0.00      0.00        30\n",
      "             hospitals       0.00      0.00      0.00        66\n",
      "                 shops       0.00      0.00      0.00        29\n",
      "           aid_centers       0.00      0.00      0.00        83\n",
      "  other_infrastructure       0.00      0.00      0.00       308\n",
      "       weather_related       0.86      0.43      0.57      1856\n",
      "                floods       0.90      0.19      0.32       585\n",
      "                 storm       0.75      0.18      0.29       623\n",
      "                  fire       0.75      0.05      0.10        57\n",
      "            earthquake       0.87      0.43      0.57       617\n",
      "                  cold       1.00      0.02      0.05       123\n",
      "         other_weather       0.50      0.01      0.02       369\n",
      "         direct_report       0.81      0.34      0.48      1270\n",
      "\n",
      "           avg / total       0.75      0.39      0.46     21218\n",
      "\n",
      "-----------------------------On training data set----------------------------------------\n",
      "\n",
      "                         precision    recall  f1-score   support\n",
      "\n",
      "               related       1.00      1.00      1.00     15021\n",
      "               request       1.00      0.93      0.96      3339\n",
      "                 offer       1.00      0.73      0.84        84\n",
      "           aid_related       1.00      0.96      0.98      8082\n",
      "          medical_help       1.00      0.82      0.90      1554\n",
      "      medical_products       1.00      0.82      0.90       973\n",
      "     search_and_rescue       1.00      0.77      0.87       563\n",
      "              security       1.00      0.75      0.86       362\n",
      "              military       1.00      0.82      0.90       617\n",
      "                 water       1.00      0.92      0.96      1269\n",
      "                  food       1.00      0.92      0.96      2173\n",
      "               shelter       1.00      0.89      0.94      1723\n",
      "              clothing       1.00      0.83      0.91       299\n",
      "                 money       1.00      0.80      0.89       437\n",
      "        missing_people       1.00      0.76      0.86       228\n",
      "              refugees       1.00      0.79      0.88       655\n",
      "                 death       1.00      0.83      0.91       877\n",
      "             other_aid       1.00      0.85      0.92      2518\n",
      "infrastructure_related       1.00      0.78      0.87      1251\n",
      "             transport       1.00      0.80      0.89       894\n",
      "             buildings       1.00      0.85      0.92       993\n",
      "           electricity       1.00      0.78      0.87       386\n",
      "                 tools       1.00      0.71      0.83       129\n",
      "             hospitals       1.00      0.75      0.86       217\n",
      "                 shops       1.00      0.73      0.84        91\n",
      "           aid_centers       1.00      0.69      0.82       226\n",
      "  other_infrastructure       1.00      0.76      0.86       843\n",
      "       weather_related       1.00      0.95      0.97      5441\n",
      "                floods       1.00      0.89      0.94      1570\n",
      "                 storm       1.00      0.90      0.95      1820\n",
      "                  fire       1.00      0.80      0.89       225\n",
      "            earthquake       1.00      0.94      0.97      1838\n",
      "                  cold       1.00      0.79      0.88       407\n",
      "         other_weather       1.00      0.77      0.87      1007\n",
      "         direct_report       1.00      0.92      0.96      3805\n",
      "\n",
      "           avg / total       1.00      0.92      0.95     61917\n",
      "\n"
     ]
    },
    {
     "name": "stderr",
     "output_type": "stream",
     "text": [
      "/opt/conda/lib/python3.6/site-packages/sklearn/metrics/classification.py:1135: UndefinedMetricWarning: Precision and F-score are ill-defined and being set to 0.0 in labels with no predicted samples.\n",
      "  'precision', 'predicted', average, warn_for)\n"
     ]
    }
   ],
   "source": [
    "y_pred_test = pipeline.predict(X_test['message'])\n",
    "y_pred_train = pipeline.predict(X_train['message'])\n",
    "print('-----------------------------On testing data set----------------------------------------')\n",
    "print(classification_report(y_test.values, y_pred_test, target_names=y.columns.values))\n",
    "print('-----------------------------On training data set----------------------------------------')\n",
    "print('\\n',classification_report(y_train.values, y_pred_train, target_names=y.columns.values))"
   ]
  },
  {
   "cell_type": "markdown",
   "metadata": {},
   "source": [
    "### 6. Improve your model\n",
    "Use grid search to find better parameters. "
   ]
  },
  {
   "cell_type": "code",
   "execution_count": 7,
   "metadata": {},
   "outputs": [
    {
     "name": "stdout",
     "output_type": "stream",
     "text": [
      "Fitting 3 folds for each of 81 candidates, totalling 243 fits\n"
     ]
    },
    {
     "name": "stderr",
     "output_type": "stream",
     "text": [
      "[Parallel(n_jobs=-1)]: Done 243 out of 243 | elapsed: 100.0min finished\n"
     ]
    },
    {
     "data": {
      "text/plain": [
       "GridSearchCV(cv=None, error_score='raise',\n",
       "       estimator=Pipeline(memory=None,\n",
       "     steps=[('cvect', CountVectorizer(analyzer='word', binary=False, decode_error='strict',\n",
       "        dtype=<class 'numpy.int64'>, encoding='utf-8', input='content',\n",
       "        lowercase=True, max_df=1.0, max_features=None, min_df=1,\n",
       "        ngram_range=(1, 1), preprocessor=None, stop_words=None,\n",
       "        stri...n_jobs=1,\n",
       "            oob_score=False, random_state=None, verbose=0,\n",
       "            warm_start=False))]),\n",
       "       fit_params=None, iid=True, n_jobs=-1,\n",
       "       param_grid={'clf__max_depth': [10, 20, None], 'clf__min_samples_leaf': [1, 2, 4], 'clf__min_samples_split': [2, 5, 10], 'clf__n_estimators': [10, 20, 40]},\n",
       "       pre_dispatch='2*n_jobs', refit=True, return_train_score='warn',\n",
       "       scoring='f1_micro', verbose=1)"
      ]
     },
     "execution_count": 7,
     "metadata": {},
     "output_type": "execute_result"
    }
   ],
   "source": [
    "parameters = {'clf__max_depth': [10, 20, None],\n",
    "              'clf__min_samples_leaf': [1, 2, 4],\n",
    "              'clf__min_samples_split': [2, 5, 10],\n",
    "              'clf__n_estimators': [10, 20, 40]}\n",
    "\n",
    "cv = GridSearchCV(pipeline, param_grid=parameters, scoring='f1_micro', verbose=1, n_jobs=-1)\n",
    "cv.fit(X_train['message'], y_train)"
   ]
  },
  {
   "cell_type": "markdown",
   "metadata": {},
   "source": [
    "### 7. Test your model\n",
    "Show the accuracy, precision, and recall of the tuned model.  \n",
    "\n",
    "Since this project focuses on code quality, process, and  pipelines, there is no minimum performance metric needed to pass. However, make sure to fine tune your models for accuracy, precision and recall to make your project stand out - especially for your portfolio!"
   ]
  },
  {
   "cell_type": "code",
   "execution_count": 8,
   "metadata": {},
   "outputs": [
    {
     "name": "stdout",
     "output_type": "stream",
     "text": [
      "--------------------------------Testing Data-----------------------------------------------\n",
      "                        precision    recall  f1-score   support\n",
      "\n",
      "               related       0.83      0.95      0.89      5073\n",
      "               request       0.85      0.42      0.56      1135\n",
      "                 offer       0.00      0.00      0.00        34\n",
      "           aid_related       0.81      0.52      0.63      2778\n",
      "          medical_help       0.67      0.01      0.02       530\n",
      "      medical_products       0.71      0.03      0.06       340\n",
      "     search_and_rescue       0.00      0.00      0.00       161\n",
      "              security       0.00      0.00      0.00       109\n",
      "              military       1.00      0.00      0.01       243\n",
      "                 water       0.89      0.21      0.34       403\n",
      "                  food       0.88      0.29      0.44       750\n",
      "               shelter       0.87      0.11      0.20       591\n",
      "              clothing       0.50      0.01      0.02       106\n",
      "                 money       0.80      0.02      0.05       167\n",
      "        missing_people       1.00      0.01      0.03        70\n",
      "              refugees       0.00      0.00      0.00       220\n",
      "                 death       0.80      0.03      0.05       317\n",
      "             other_aid       0.85      0.01      0.02       928\n",
      "infrastructure_related       0.00      0.00      0.00       454\n",
      "             transport       1.00      0.01      0.01       307\n",
      "             buildings       1.00      0.01      0.03       340\n",
      "           electricity       0.00      0.00      0.00       146\n",
      "                 tools       0.00      0.00      0.00        30\n",
      "             hospitals       0.00      0.00      0.00        66\n",
      "                 shops       0.00      0.00      0.00        29\n",
      "           aid_centers       0.00      0.00      0.00        83\n",
      "  other_infrastructure       0.00      0.00      0.00       308\n",
      "       weather_related       0.88      0.47      0.61      1856\n",
      "                floods       0.95      0.13      0.23       585\n",
      "                 storm       0.73      0.15      0.25       623\n",
      "                  fire       1.00      0.02      0.03        57\n",
      "            earthquake       0.88      0.43      0.58       617\n",
      "                  cold       1.00      0.01      0.02       123\n",
      "         other_weather       0.67      0.01      0.01       369\n",
      "         direct_report       0.81      0.34      0.48      1270\n",
      "\n",
      "           avg / total       0.77      0.42      0.47     21218\n",
      "\n",
      "--------------------------------Traning Data-----------------------------------------------\n",
      "\n",
      "                         precision    recall  f1-score   support\n",
      "\n",
      "               related       0.97      1.00      0.99     15021\n",
      "               request       0.99      0.85      0.91      3339\n",
      "                 offer       1.00      0.19      0.32        84\n",
      "           aid_related       0.99      0.97      0.98      8082\n",
      "          medical_help       1.00      0.57      0.73      1554\n",
      "      medical_products       1.00      0.54      0.70       973\n",
      "     search_and_rescue       1.00      0.36      0.53       563\n",
      "              security       1.00      0.37      0.54       362\n",
      "              military       1.00      0.57      0.73       617\n",
      "                 water       1.00      0.78      0.88      1269\n",
      "                  food       1.00      0.85      0.92      2173\n",
      "               shelter       1.00      0.72      0.84      1723\n",
      "              clothing       1.00      0.43      0.60       299\n",
      "                 money       1.00      0.37      0.54       437\n",
      "        missing_people       1.00      0.32      0.49       228\n",
      "              refugees       1.00      0.39      0.57       655\n",
      "                 death       1.00      0.59      0.74       877\n",
      "             other_aid       1.00      0.58      0.74      2518\n",
      "infrastructure_related       1.00      0.50      0.66      1251\n",
      "             transport       1.00      0.49      0.66       894\n",
      "             buildings       1.00      0.57      0.73       993\n",
      "           electricity       1.00      0.44      0.61       386\n",
      "                 tools       1.00      0.32      0.48       129\n",
      "             hospitals       1.00      0.35      0.52       217\n",
      "                 shops       1.00      0.33      0.50        91\n",
      "           aid_centers       1.00      0.37      0.54       226\n",
      "  other_infrastructure       1.00      0.44      0.61       843\n",
      "       weather_related       0.99      0.92      0.96      5441\n",
      "                floods       1.00      0.73      0.85      1570\n",
      "                 storm       1.00      0.79      0.88      1820\n",
      "                  fire       1.00      0.47      0.64       225\n",
      "            earthquake       0.99      0.87      0.92      1838\n",
      "                  cold       1.00      0.47      0.64       407\n",
      "         other_weather       1.00      0.44      0.61      1007\n",
      "         direct_report       0.99      0.84      0.91      3805\n",
      "\n",
      "           avg / total       0.99      0.81      0.87     61917\n",
      "\n"
     ]
    },
    {
     "name": "stderr",
     "output_type": "stream",
     "text": [
      "/opt/conda/lib/python3.6/site-packages/sklearn/metrics/classification.py:1135: UndefinedMetricWarning: Precision and F-score are ill-defined and being set to 0.0 in labels with no predicted samples.\n",
      "  'precision', 'predicted', average, warn_for)\n"
     ]
    }
   ],
   "source": [
    "y_pred_test = cv.predict(X_test['message'])\n",
    "y_pred_train = cv.predict(X_train['message'])\n",
    "print('--------------------------------Testing Data-----------------------------------------------')\n",
    "print(classification_report(y_test.values, y_pred_test, target_names=y.columns.values))\n",
    "print('--------------------------------Traning Data-----------------------------------------------')\n",
    "print('\\n',classification_report(y_train.values, y_pred_train, target_names=y.columns.values))"
   ]
  },
  {
   "cell_type": "markdown",
   "metadata": {},
   "source": [
    "### 8. Try improving your model further. Here are a few ideas:\n",
    "* try other machine learning algorithms\n",
    "* add other features besides the TF-IDF"
   ]
  },
  {
   "cell_type": "code",
   "execution_count": 9,
   "metadata": {},
   "outputs": [],
   "source": [
    "pipeline2 = Pipeline([('cvect', CountVectorizer(tokenizer = tokenize)),\n",
    "                     ('tfidf', TfidfTransformer()),\n",
    "                     ('clf', GradientBoostingClassifier())\n",
    "                     ])\n"
   ]
  },
  {
   "cell_type": "code",
   "execution_count": 10,
   "metadata": {},
   "outputs": [
    {
     "data": {
      "text/plain": [
       "Pipeline(memory=None,\n",
       "     steps=[('cvect', CountVectorizer(analyzer='word', binary=False, decode_error='strict',\n",
       "        dtype=<class 'numpy.int64'>, encoding='utf-8', input='content',\n",
       "        lowercase=True, max_df=1.0, max_features=None, min_df=1,\n",
       "        ngram_range=(1, 1), preprocessor=None, stop_words=None,\n",
       "        stri...n_jobs=1,\n",
       "            oob_score=False, random_state=None, verbose=0,\n",
       "            warm_start=False))])"
      ]
     },
     "execution_count": 10,
     "metadata": {},
     "output_type": "execute_result"
    }
   ],
   "source": [
    "X_train2, X_test2, y_train2, y_test2 = train_test_split(X, y)\n",
    "pipeline.fit(X_train2['message'], y_train2)"
   ]
  },
  {
   "cell_type": "code",
   "execution_count": 11,
   "metadata": {},
   "outputs": [
    {
     "name": "stdout",
     "output_type": "stream",
     "text": [
      "-----------------------------On testing data set----------------------------------------\n",
      "                        precision    recall  f1-score   support\n",
      "\n",
      "               related       0.83      0.90      0.87      4995\n",
      "               request       0.80      0.37      0.51      1096\n",
      "                 offer       0.00      0.00      0.00        30\n",
      "           aid_related       0.79      0.42      0.55      2709\n",
      "          medical_help       0.48      0.02      0.04       497\n",
      "      medical_products       0.92      0.04      0.08       302\n",
      "     search_and_rescue       0.67      0.01      0.02       200\n",
      "              security       0.00      0.00      0.00       117\n",
      "              military       0.00      0.00      0.00       213\n",
      "                 water       0.83      0.09      0.16       419\n",
      "                  food       0.85      0.20      0.32       734\n",
      "               shelter       0.78      0.07      0.12       579\n",
      "              clothing       0.83      0.05      0.09       100\n",
      "                 money       0.75      0.02      0.04       144\n",
      "        missing_people       0.00      0.00      0.00        73\n",
      "              refugees       0.50      0.01      0.03       220\n",
      "                 death       0.80      0.04      0.08       282\n",
      "             other_aid       0.63      0.03      0.05       866\n",
      "infrastructure_related       0.43      0.01      0.01       427\n",
      "             transport       0.43      0.01      0.02       297\n",
      "             buildings       0.67      0.02      0.05       339\n",
      "           electricity       0.00      0.00      0.00       114\n",
      "                 tools       0.00      0.00      0.00        51\n",
      "             hospitals       0.00      0.00      0.00        68\n",
      "                 shops       0.00      0.00      0.00        30\n",
      "           aid_centers       0.00      0.00      0.00        79\n",
      "  other_infrastructure       0.25      0.00      0.01       292\n",
      "       weather_related       0.85      0.39      0.54      1816\n",
      "                floods       0.86      0.11      0.19       542\n",
      "                 storm       0.80      0.19      0.31       616\n",
      "                  fire       0.00      0.00      0.00        67\n",
      "            earthquake       0.87      0.33      0.47       609\n",
      "                  cold       0.50      0.01      0.02       131\n",
      "         other_weather       0.50      0.01      0.02       341\n",
      "         direct_report       0.80      0.30      0.43      1298\n",
      "\n",
      "           avg / total       0.74      0.38      0.44     20693\n",
      "\n",
      "-----------------------------On training data set----------------------------------------\n",
      "\n",
      "                         precision    recall  f1-score   support\n",
      "\n",
      "               related       1.00      1.00      1.00     15099\n",
      "               request       1.00      0.93      0.96      3378\n",
      "                 offer       1.00      0.77      0.87        88\n",
      "           aid_related       1.00      0.96      0.98      8151\n",
      "          medical_help       1.00      0.83      0.91      1587\n",
      "      medical_products       1.00      0.81      0.90      1011\n",
      "     search_and_rescue       1.00      0.77      0.87       524\n",
      "              security       1.00      0.71      0.83       354\n",
      "              military       1.00      0.83      0.90       647\n",
      "                 water       1.00      0.88      0.93      1253\n",
      "                  food       1.00      0.92      0.96      2189\n",
      "               shelter       1.00      0.88      0.94      1735\n",
      "              clothing       1.00      0.82      0.90       305\n",
      "                 money       1.00      0.78      0.88       460\n",
      "        missing_people       1.00      0.72      0.84       225\n",
      "              refugees       1.00      0.78      0.87       655\n",
      "                 death       1.00      0.83      0.91       912\n",
      "             other_aid       1.00      0.84      0.91      2580\n",
      "infrastructure_related       1.00      0.77      0.87      1278\n",
      "             transport       1.00      0.78      0.88       904\n",
      "             buildings       1.00      0.79      0.89       994\n",
      "           electricity       1.00      0.75      0.85       418\n",
      "                 tools       1.00      0.66      0.79       108\n",
      "             hospitals       1.00      0.73      0.84       215\n",
      "                 shops       1.00      0.70      0.82        90\n",
      "           aid_centers       1.00      0.74      0.85       230\n",
      "  other_infrastructure       1.00      0.76      0.86       859\n",
      "       weather_related       1.00      0.95      0.97      5481\n",
      "                floods       1.00      0.88      0.94      1613\n",
      "                 storm       1.00      0.92      0.96      1827\n",
      "                  fire       1.00      0.79      0.88       215\n",
      "            earthquake       1.00      0.93      0.96      1846\n",
      "                  cold       1.00      0.79      0.89       399\n",
      "         other_weather       1.00      0.78      0.88      1035\n",
      "         direct_report       1.00      0.92      0.96      3777\n",
      "\n",
      "           avg / total       1.00      0.91      0.95     62442\n",
      "\n"
     ]
    },
    {
     "name": "stderr",
     "output_type": "stream",
     "text": [
      "/opt/conda/lib/python3.6/site-packages/sklearn/metrics/classification.py:1135: UndefinedMetricWarning: Precision and F-score are ill-defined and being set to 0.0 in labels with no predicted samples.\n",
      "  'precision', 'predicted', average, warn_for)\n"
     ]
    }
   ],
   "source": [
    "y_pred_test2 = pipeline.predict(X_test2['message'])\n",
    "y_pred_train2 = pipeline.predict(X_train2['message'])\n",
    "print('-----------------------------On testing data set----------------------------------------')\n",
    "print(classification_report(y_test2.values, y_pred_test2, target_names=y.columns.values))\n",
    "print('-----------------------------On training data set----------------------------------------')\n",
    "print('\\n',classification_report(y_train2.values, y_pred_train2, target_names=y.columns.values))"
   ]
  },
  {
   "cell_type": "markdown",
   "metadata": {},
   "source": [
    "### 9. Export your model as a pickle file"
   ]
  },
  {
   "cell_type": "code",
   "execution_count": 12,
   "metadata": {},
   "outputs": [
    {
     "data": {
      "text/plain": [
       "{'clf__max_depth': None,\n",
       " 'clf__min_samples_leaf': 1,\n",
       " 'clf__min_samples_split': 10,\n",
       " 'clf__n_estimators': 20}"
      ]
     },
     "execution_count": 12,
     "metadata": {},
     "output_type": "execute_result"
    }
   ],
   "source": [
    "cv.best_params_"
   ]
  },
  {
   "cell_type": "code",
   "execution_count": 14,
   "metadata": {},
   "outputs": [],
   "source": [
    "m = pickle.dumps('clf')"
   ]
  },
  {
   "cell_type": "code",
   "execution_count": 15,
   "metadata": {},
   "outputs": [],
   "source": [
    "pickle.dump(cv, open('disaster_model.sav', 'wb'))"
   ]
  },
  {
   "cell_type": "code",
   "execution_count": 18,
   "metadata": {},
   "outputs": [
    {
     "name": "stdout",
     "output_type": "stream",
     "text": [
      "GridSearchCV(cv=None, error_score='raise',\n",
      "       estimator=Pipeline(memory=None,\n",
      "     steps=[('cvect', CountVectorizer(analyzer='word', binary=False, decode_error='strict',\n",
      "        dtype=<class 'numpy.int64'>, encoding='utf-8', input='content',\n",
      "        lowercase=True, max_df=1.0, max_features=None, min_df=1,\n",
      "        ngram_range=(1, 1), preprocessor=None, stop_words=None,\n",
      "        stri...n_jobs=1,\n",
      "            oob_score=False, random_state=None, verbose=0,\n",
      "            warm_start=False))]),\n",
      "       fit_params=None, iid=True, n_jobs=-1,\n",
      "       param_grid={'clf__max_depth': [10, 20, None], 'clf__min_samples_leaf': [1, 2, 4], 'clf__min_samples_split': [2, 5, 10], 'clf__n_estimators': [10, 20, 40]},\n",
      "       pre_dispatch='2*n_jobs', refit=True, return_train_score='warn',\n",
      "       scoring='f1_micro', verbose=1)\n"
     ]
    }
   ],
   "source": [
    "loaded_model = pickle.load(open('disaster_model.sav', 'rb'))\n",
    "\n",
    "print(loaded_model)"
   ]
  },
  {
   "cell_type": "code",
   "execution_count": 19,
   "metadata": {},
   "outputs": [
    {
     "name": "stdout",
     "output_type": "stream",
     "text": [
      "--------------------------------Testing Data-----------------------------------------------\n",
      "                        precision    recall  f1-score   support\n",
      "\n",
      "               related       0.83      0.95      0.89      5073\n",
      "               request       0.85      0.42      0.56      1135\n",
      "                 offer       0.00      0.00      0.00        34\n",
      "           aid_related       0.81      0.52      0.63      2778\n",
      "          medical_help       0.67      0.01      0.02       530\n",
      "      medical_products       0.71      0.03      0.06       340\n",
      "     search_and_rescue       0.00      0.00      0.00       161\n",
      "              security       0.00      0.00      0.00       109\n",
      "              military       1.00      0.00      0.01       243\n",
      "                 water       0.89      0.21      0.34       403\n",
      "                  food       0.88      0.29      0.44       750\n",
      "               shelter       0.87      0.11      0.20       591\n",
      "              clothing       0.50      0.01      0.02       106\n",
      "                 money       0.80      0.02      0.05       167\n",
      "        missing_people       1.00      0.01      0.03        70\n",
      "              refugees       0.00      0.00      0.00       220\n",
      "                 death       0.80      0.03      0.05       317\n",
      "             other_aid       0.85      0.01      0.02       928\n",
      "infrastructure_related       0.00      0.00      0.00       454\n",
      "             transport       1.00      0.01      0.01       307\n",
      "             buildings       1.00      0.01      0.03       340\n",
      "           electricity       0.00      0.00      0.00       146\n",
      "                 tools       0.00      0.00      0.00        30\n",
      "             hospitals       0.00      0.00      0.00        66\n",
      "                 shops       0.00      0.00      0.00        29\n",
      "           aid_centers       0.00      0.00      0.00        83\n",
      "  other_infrastructure       0.00      0.00      0.00       308\n",
      "       weather_related       0.88      0.47      0.61      1856\n",
      "                floods       0.95      0.13      0.23       585\n",
      "                 storm       0.73      0.15      0.25       623\n",
      "                  fire       1.00      0.02      0.03        57\n",
      "            earthquake       0.88      0.43      0.58       617\n",
      "                  cold       1.00      0.01      0.02       123\n",
      "         other_weather       0.67      0.01      0.01       369\n",
      "         direct_report       0.81      0.34      0.48      1270\n",
      "\n",
      "           avg / total       0.77      0.42      0.47     21218\n",
      "\n",
      "--------------------------------Traning Data-----------------------------------------------\n",
      "\n",
      "                         precision    recall  f1-score   support\n",
      "\n",
      "               related       0.97      1.00      0.99     15021\n",
      "               request       0.99      0.85      0.91      3339\n",
      "                 offer       1.00      0.19      0.32        84\n",
      "           aid_related       0.99      0.97      0.98      8082\n",
      "          medical_help       1.00      0.57      0.73      1554\n",
      "      medical_products       1.00      0.54      0.70       973\n",
      "     search_and_rescue       1.00      0.36      0.53       563\n",
      "              security       1.00      0.37      0.54       362\n",
      "              military       1.00      0.57      0.73       617\n",
      "                 water       1.00      0.78      0.88      1269\n",
      "                  food       1.00      0.85      0.92      2173\n",
      "               shelter       1.00      0.72      0.84      1723\n",
      "              clothing       1.00      0.43      0.60       299\n",
      "                 money       1.00      0.37      0.54       437\n",
      "        missing_people       1.00      0.32      0.49       228\n",
      "              refugees       1.00      0.39      0.57       655\n",
      "                 death       1.00      0.59      0.74       877\n",
      "             other_aid       1.00      0.58      0.74      2518\n",
      "infrastructure_related       1.00      0.50      0.66      1251\n",
      "             transport       1.00      0.49      0.66       894\n",
      "             buildings       1.00      0.57      0.73       993\n",
      "           electricity       1.00      0.44      0.61       386\n",
      "                 tools       1.00      0.32      0.48       129\n",
      "             hospitals       1.00      0.35      0.52       217\n",
      "                 shops       1.00      0.33      0.50        91\n",
      "           aid_centers       1.00      0.37      0.54       226\n",
      "  other_infrastructure       1.00      0.44      0.61       843\n",
      "       weather_related       0.99      0.92      0.96      5441\n",
      "                floods       1.00      0.73      0.85      1570\n",
      "                 storm       1.00      0.79      0.88      1820\n",
      "                  fire       1.00      0.47      0.64       225\n",
      "            earthquake       0.99      0.87      0.92      1838\n",
      "                  cold       1.00      0.47      0.64       407\n",
      "         other_weather       1.00      0.44      0.61      1007\n",
      "         direct_report       0.99      0.84      0.91      3805\n",
      "\n",
      "           avg / total       0.99      0.81      0.87     61917\n",
      "\n"
     ]
    },
    {
     "name": "stderr",
     "output_type": "stream",
     "text": [
      "/opt/conda/lib/python3.6/site-packages/sklearn/metrics/classification.py:1135: UndefinedMetricWarning: Precision and F-score are ill-defined and being set to 0.0 in labels with no predicted samples.\n",
      "  'precision', 'predicted', average, warn_for)\n"
     ]
    }
   ],
   "source": [
    "y_pred_test = loaded_model.predict(X_test['message'])\n",
    "y_pred_train = loaded_model.predict(X_train['message'])\n",
    "print('--------------------------------Testing Data-----------------------------------------------')\n",
    "print(classification_report(y_test.values, y_pred_test, target_names=y.columns.values))\n",
    "print('--------------------------------Traning Data-----------------------------------------------')\n",
    "print('\\n',classification_report(y_train.values, y_pred_train, target_names=y.columns.values))"
   ]
  },
  {
   "cell_type": "markdown",
   "metadata": {},
   "source": [
    "### 10. Use this notebook to complete `train.py`\n",
    "Use the template file attached in the Resources folder to write a script that runs the steps above to create a database and export a model based on a new dataset specified by the user."
   ]
  },
  {
   "cell_type": "code",
   "execution_count": null,
   "metadata": {},
   "outputs": [],
   "source": []
  }
 ],
 "metadata": {
  "kernelspec": {
   "display_name": "Python 3",
   "language": "python",
   "name": "python3"
  },
  "language_info": {
   "codemirror_mode": {
    "name": "ipython",
    "version": 3
   },
   "file_extension": ".py",
   "mimetype": "text/x-python",
   "name": "python",
   "nbconvert_exporter": "python",
   "pygments_lexer": "ipython3",
   "version": "3.6.3"
  }
 },
 "nbformat": 4,
 "nbformat_minor": 2
}
